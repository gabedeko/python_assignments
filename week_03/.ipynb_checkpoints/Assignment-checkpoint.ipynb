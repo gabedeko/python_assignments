{
 "cells": [
  {
   "cell_type": "markdown",
   "id": "bafaef42",
   "metadata": {},
   "source": [
    "### Assignment: Poem - Week 3"
   ]
  },
  {
   "cell_type": "markdown",
   "id": "eb63e9e4",
   "metadata": {},
   "source": [
    "<h3>Dekoladenu, Gabriel Creative Coding - Python</h3>\n",
    "\n",
    "<h4>Assignment 3 - Poem Week 3</h4>\n",
    "<h5>Final Iteration</h5>\n"
   ]
  },
  {
   "cell_type": "code",
   "execution_count": 1,
   "id": "4299fa3f",
   "metadata": {},
   "outputs": [],
   "source": [
    "   \n",
    "data_ = {'title': ['Digital', 'Dude'], \n",
    "             'emoji': ['\\U0001F916', '\\U0001F468'], \n",
    "             'name': ['Gabe', 'Deko'], \n",
    "            }\n",
    "\n",
    "x1 = data_['title'][0];\n",
    "x2 = data_['title'][1];\n",
    "\n",
    "y1 = data_['emoji'][0];\n",
    "y2 = data_['emoji'][1];\n",
    "\n",
    "z1 = data_['name'][0];\n",
    "z2 = data_['name'][1];\n",
    "\n",
    "def gabePoem():\n",
    "    '''Enjoy this somewhat decent poem about my online experience'''\n",
    "    \n",
    "    a = 0\n",
    "    b = 0\n",
    "    print (f' {x1} {y1}')\n",
    "    print (f' {y2} {x2}')\n",
    "    print('\\n')\n",
    "    print (f'I`m a {x1} {x2}')\n",
    "    print (f'In a {x1} mood')\n",
    "    print (f'With my {x1} groove')\n",
    "    print (f'All while in solitude')\n",
    "    print('\\n')\n",
    "    print (f'As a {x1} {x2}')\n",
    "    print (f'I often consider how I am {x1}ly viewed')\n",
    "    print (f'And do not want to come off as rude')\n",
    "    print (f'But actions may come off as shrewd')\n",
    "    print('\\n')\n",
    "    print (f'What is my future as a {x1} {x2}?')\n",
    "    print (f'Will things be screwed?')\n",
    "    print (f'Unexpected experiences this will include')\n",
    "    print (f'Like being allergic to seafood')\n",
    "    print('\\n')\n",
    "\n",
    "    for space in range(4):  \n",
    "        print (space * \" \" + z1[a].swapcase())\n",
    "        a += 1\n",
    "    for space_ in range(4):  \n",
    "        print (space_ * \" \" + z2[b].swapcase())\n",
    "        b += 1\n",
    "        "
   ]
  },
  {
   "cell_type": "code",
   "execution_count": 2,
   "id": "5bcfb8b8",
   "metadata": {},
   "outputs": [
    {
     "name": "stdout",
     "output_type": "stream",
     "text": [
      " Digital 🤖\n",
      " 👨 Dude\n",
      "\n",
      "\n",
      "I`m a Digital Dude\n",
      "In a Digital mood\n",
      "With my Digital groove\n",
      "All while in solitude\n",
      "\n",
      "\n",
      "As a Digital Dude\n",
      "I often consider how I am Digitally viewed\n",
      "And do not want to come off as rude\n",
      "But actions may come off as shrewd\n",
      "\n",
      "\n",
      "What is my future as a Digital Dude?\n",
      "Will things be screwed?\n",
      "Unexpected experiences this will include\n",
      "Like being allergic to seafood\n",
      "\n",
      "\n",
      "g\n",
      " A\n",
      "  B\n",
      "   E\n",
      "d\n",
      " E\n",
      "  K\n",
      "   O\n"
     ]
    }
   ],
   "source": [
    "gabePoem()"
   ]
  },
  {
   "cell_type": "markdown",
   "id": "51ef4d01",
   "metadata": {},
   "source": [
    "### Assignment: Poem - Week 3 - Bonus"
   ]
  },
  {
   "cell_type": "code",
   "execution_count": 3,
   "id": "47c2f763",
   "metadata": {},
   "outputs": [
    {
     "ename": "SyntaxError",
     "evalue": "invalid syntax (<ipython-input-3-fb939bf82f8b>, line 6)",
     "output_type": "error",
     "traceback": [
      "\u001b[1;36m  File \u001b[1;32m\"<ipython-input-3-fb939bf82f8b>\"\u001b[1;36m, line \u001b[1;32m6\u001b[0m\n\u001b[1;33m    too_high = ?\u001b[0m\n\u001b[1;37m               ^\u001b[0m\n\u001b[1;31mSyntaxError\u001b[0m\u001b[1;31m:\u001b[0m invalid syntax\n"
     ]
    }
   ],
   "source": [
    "def what():\n",
    "    \n",
    "    '''Goes Up'''\n",
    "    up = 1\n",
    "    down = 0\n",
    "    too_high = ?\n",
    "    \n",
    "    while up != too_high: \n",
    "        print(up)\n",
    "        up += 1\n",
    "        if up == too_high:\n",
    "            up == down\n",
    "            break"
   ]
  },
  {
   "cell_type": "code",
   "execution_count": 4,
   "id": "d66f0423",
   "metadata": {},
   "outputs": [
    {
     "ename": "NameError",
     "evalue": "name 'what' is not defined",
     "output_type": "error",
     "traceback": [
      "\u001b[1;31m---------------------------------------------------------------------------\u001b[0m",
      "\u001b[1;31mNameError\u001b[0m                                 Traceback (most recent call last)",
      "\u001b[1;32m<ipython-input-4-b79fb5375ec9>\u001b[0m in \u001b[0;36m<module>\u001b[1;34m\u001b[0m\n\u001b[1;32m----> 1\u001b[1;33m \u001b[0mwhat\u001b[0m\u001b[1;33m(\u001b[0m\u001b[1;33m)\u001b[0m\u001b[1;33m\u001b[0m\u001b[1;33m\u001b[0m\u001b[0m\n\u001b[0m",
      "\u001b[1;31mNameError\u001b[0m: name 'what' is not defined"
     ]
    }
   ],
   "source": [
    "what()"
   ]
  },
  {
   "cell_type": "code",
   "execution_count": null,
   "id": "80b1605b",
   "metadata": {},
   "outputs": [],
   "source": []
  }
 ],
 "metadata": {
  "kernelspec": {
   "display_name": "Python 3",
   "language": "python",
   "name": "python3"
  },
  "language_info": {
   "codemirror_mode": {
    "name": "ipython",
    "version": 3
   },
   "file_extension": ".py",
   "mimetype": "text/x-python",
   "name": "python",
   "nbconvert_exporter": "python",
   "pygments_lexer": "ipython3",
   "version": "3.8.8"
  }
 },
 "nbformat": 4,
 "nbformat_minor": 5
}
