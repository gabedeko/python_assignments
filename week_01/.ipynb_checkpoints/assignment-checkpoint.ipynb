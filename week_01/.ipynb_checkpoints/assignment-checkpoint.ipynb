{
 "cells": [
  {
   "cell_type": "markdown",
   "metadata": {},
   "source": [
    "### Assignment: Poem - Week 1"
   ]
  },
  {
   "cell_type": "markdown",
   "metadata": {},
   "source": [
    "Dekoladenu, Gabriel Creative Coding - Python\n",
    "\n",
    "Assignment 1 - Poem Week 1\n",
    "\n",
    "Code Poetry: https://www.popwebdesign.net/popart_blog/en/2018/01/code-poetry-poems-written-in-programming-lan>h1>guages/ "
   ]
  },
  {
   "cell_type": "code",
   "execution_count": 2,
   "metadata": {},
   "outputs": [
    {
     "name": "stdout",
     "output_type": "stream",
     "text": [
      "🤖 Digital\n",
      "👨 Dude\n",
      "\n",
      "\n",
      "I`m a Digital Dude\n",
      "In a Digital mood\n",
      "With my Digital groove\n",
      "All while in solitude\n",
      "\n",
      "\n",
      "As a Digital Dude\n",
      "I often consider how I am Digitally viewed\n",
      "And I do not want to come off as prude\n",
      "So some actions may come off as rude\n",
      "\n",
      "\n",
      "What is my future as a Digital Dude?\n",
      "Will everything be screwed?\n",
      "Unexpected experiences this will include\n",
      "But I will always be allergic to seafood\n",
      "\n",
      "\n",
      "GABRIEL-LEE DEKOLADENU\n"
     ]
    }
   ],
   "source": [
    "x = \"Digital\"\n",
    "y = \"Dude\"\n",
    "z = \"Gabriel-Lee Dekoladenu\"\n",
    "\n",
    "\n",
    "print (f'\\U0001F916 {x}')\n",
    "print (f'\\U0001F468 {y}')\n",
    "print('\\n')\n",
    "print (f'I`m a {x} {y}')\n",
    "print (f'In a {x} mood')\n",
    "print (f'With my {x} groove')\n",
    "print (f'All while in solitude')\n",
    "print('\\n')\n",
    "print (f'As a {x} {y}')\n",
    "print (f'I often consider how I am {x}ly viewed')\n",
    "print (f'And I do not want to come off as prude')\n",
    "print (f'So some actions may come off as rude')\n",
    "print('\\n')\n",
    "print (f'What is my future as a {x} {y}?')\n",
    "print (f'Will everything be screwed?')\n",
    "print (f'Unexpected experiences this will include')\n",
    "print (f'But I will always be allergic to seafood')\n",
    "print('\\n')\n",
    "\n",
    "\n",
    "print(z.upper())"
   ]
  }
 ],
 "metadata": {
  "kernelspec": {
   "display_name": "Python 3",
   "language": "python",
   "name": "python3"
  },
  "language_info": {
   "codemirror_mode": {
    "name": "ipython",
    "version": 3
   },
   "file_extension": ".py",
   "mimetype": "text/x-python",
   "name": "python",
   "nbconvert_exporter": "python",
   "pygments_lexer": "ipython3",
   "version": "3.8.8"
  }
 },
 "nbformat": 4,
 "nbformat_minor": 2
}
