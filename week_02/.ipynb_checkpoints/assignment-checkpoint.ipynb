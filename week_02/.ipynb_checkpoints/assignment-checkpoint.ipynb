{
 "cells": [
  {
   "cell_type": "markdown",
   "id": "a1dafa74",
   "metadata": {},
   "source": [
    "### Assignment: Poem - Week 2"
   ]
  },
  {
   "cell_type": "markdown",
   "id": "154c6f77",
   "metadata": {},
   "source": [
    "<h3>Dekoladenu, Gabriel Creative Coding - Python</h3>\n",
    "\n",
    "<h4>Assignment 2 - Poem Week 2</h4>\n",
    "<h5>Update 1</h5>\n",
    "\n",
    "\n"
   ]
  },
  {
   "cell_type": "code",
   "execution_count": 89,
   "id": "5c78d25e",
   "metadata": {},
   "outputs": [],
   "source": [
    "   \n",
    "x = \"Digital\"\n",
    "y = \"Dude\"\n",
    "z = \"Gabriel-Lee Dekoladenu\"\n",
    "\n",
    "def gabePoem():\n",
    "    '''Enjoy this amazing poem about my online experience'''\n",
    "    \n",
    "    a = 0\n",
    "    print (f'\\U0001F916 {x}')\n",
    "    print (f'\\U0001F468 {y}')\n",
    "    print('\\n')\n",
    "    print (f'I`m a {x} {y}')\n",
    "    print (f'In a {x} mood')\n",
    "    print (f'With my {x} groove')\n",
    "    print (f'All while in solitude')\n",
    "    print('\\n')\n",
    "    print (f'As a {x} {y}')\n",
    "    print (f'I often consider how I am {x}ly viewed')\n",
    "    print (f'And do not want to come off as rude')\n",
    "    print (f'But actions may come off as shrewd')\n",
    "    print('\\n')\n",
    "    print (f'What is my future as a {x} {y}?')\n",
    "    print (f'Will everything be screwed?')\n",
    "    print (f'Unexpected experiences this will include')\n",
    "    print (f'But I will always be allergic to seafood')\n",
    "    print('\\n')\n",
    "\n",
    "    for space in range(22):  \n",
    "        print (space * \" \" + z[a])\n",
    "        a += 1\n",
    "        "
   ]
  },
  {
   "cell_type": "code",
   "execution_count": 90,
   "id": "2fc6cbdb",
   "metadata": {},
   "outputs": [
    {
     "name": "stdout",
     "output_type": "stream",
     "text": [
      "🤖 Digital\n",
      "👨 Dude\n",
      "\n",
      "\n",
      "I`m a Digital Dude\n",
      "In a Digital mood\n",
      "With my Digital groove\n",
      "All while in solitude\n",
      "\n",
      "\n",
      "As a Digital Dude\n",
      "I often consider how I am Digitally viewed\n",
      "And do not want to come off as rude\n",
      "But actions may come off as shrewd\n",
      "\n",
      "\n",
      "What is my future as a Digital Dude?\n",
      "Will everything be screwed?\n",
      "Unexpected experiences this will include\n",
      "But I will always be allergic to seafood\n",
      "\n",
      "\n",
      "G\n",
      " a\n",
      "  b\n",
      "   r\n",
      "    i\n",
      "     e\n",
      "      l\n",
      "       -\n",
      "        L\n",
      "         e\n",
      "          e\n",
      "            \n",
      "            D\n",
      "             e\n",
      "              k\n",
      "               o\n",
      "                l\n",
      "                 a\n",
      "                  d\n",
      "                   e\n",
      "                    n\n",
      "                     u\n"
     ]
    }
   ],
   "source": [
    "gabePoem()"
   ]
  },
  {
   "cell_type": "code",
   "execution_count": null,
   "id": "c4055a02",
   "metadata": {},
   "outputs": [],
   "source": []
  }
 ],
 "metadata": {
  "kernelspec": {
   "display_name": "Python 3",
   "language": "python",
   "name": "python3"
  },
  "language_info": {
   "codemirror_mode": {
    "name": "ipython",
    "version": 3
   },
   "file_extension": ".py",
   "mimetype": "text/x-python",
   "name": "python",
   "nbconvert_exporter": "python",
   "pygments_lexer": "ipython3",
   "version": "3.8.8"
  }
 },
 "nbformat": 4,
 "nbformat_minor": 5
}
